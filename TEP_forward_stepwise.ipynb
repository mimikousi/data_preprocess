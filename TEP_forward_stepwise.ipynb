{
 "cells": [
  {
   "cell_type": "code",
   "execution_count": 1,
   "metadata": {},
   "outputs": [],
   "source": [
    "import pandas as pd\n",
    "import numpy as np\n",
    "from forward_stepwise_selection import AIC, BIC, forward_stepwise "
   ]
  },
  {
   "cell_type": "code",
   "execution_count": 2,
   "metadata": {},
   "outputs": [],
   "source": [
    "# 学習データの読み込み\n",
    "df = pd.read_csv('normal_data.csv')\n",
    "\n",
    "# xとyに分けます。\n",
    "x1 = df.iloc[:, :39] # 説明変数 x\n",
    "x2 = df.iloc[:, 40:]\n",
    "x = pd.concat([x1, x2], axis=1)\n",
    "y = df.iloc[:, 39] # 目的変数 y "
   ]
  },
  {
   "cell_type": "code",
   "execution_count": 3,
   "metadata": {},
   "outputs": [
    {
     "name": "stdout",
     "output_type": "stream",
     "text": [
      "全変数AIC =  -1514.8286214213153\n"
     ]
    }
   ],
   "source": [
    "# 全変数を用いた場合のAIC\n",
    "print('全変数AIC = ', AIC(x, y))"
   ]
  },
  {
   "cell_type": "code",
   "execution_count": 4,
   "metadata": {},
   "outputs": [
    {
     "name": "stdout",
     "output_type": "stream",
     "text": [
      "全変数BIC =  -1266.6150239137594\n"
     ]
    }
   ],
   "source": [
    "# 全変数を用いた場合のBIC\n",
    "print('全変数BIC = ', BIC(x, y))"
   ]
  },
  {
   "cell_type": "code",
   "execution_count": 5,
   "metadata": {},
   "outputs": [
    {
     "name": "stdout",
     "output_type": "stream",
     "text": [
      "Baseline model with AIC:-1423.4190681643524\n",
      "Finally Add              20 with AIC -1463.8956198508529\n",
      "Baseline model with AIC:-1463.8956198508529\n",
      "Finally Add              39 with AIC -1477.3141212060818\n",
      "Baseline model with AIC:-1477.3141212060818\n",
      "Finally Add              13 with AIC -1487.1534214283588\n",
      "Baseline model with AIC:-1487.1534214283588\n",
      "Finally Add              31 with AIC -1502.1034393412112\n",
      "Baseline model with AIC:-1502.1034393412112\n",
      "Finally Add              24 with AIC -1510.0345265038063\n",
      "Baseline model with AIC:-1510.0345265038063\n",
      "Finally Add              38 with AIC -1518.3338017136375\n",
      "Baseline model with AIC:-1518.3338017136375\n",
      "Finally Add              26 with AIC -1524.762800419612\n",
      "Baseline model with AIC:-1524.762800419612\n",
      "Finally Add              21 with AIC -1530.756013921682\n",
      "Baseline model with AIC:-1530.756013921682\n",
      "Finally Add              36 with AIC -1534.1010586418686\n",
      "Baseline model with AIC:-1534.1010586418686\n",
      "Finally Add              19 with AIC -1537.0704845778343\n",
      "Baseline model with AIC:-1537.0704845778343\n",
      "Finally Add              22 with AIC -1540.1896084186656\n",
      "Baseline model with AIC:-1540.1896084186656\n",
      "Finally Add              16 with AIC -1544.4852775792267\n",
      "Baseline model with AIC:-1544.4852775792267\n",
      "Finally Add              28 with AIC -1547.8350940745634\n",
      "Baseline model with AIC:-1547.8350940745634\n",
      "Finally Add              32 with AIC -1549.8029219241537\n",
      "Baseline model with AIC:-1549.8029219241537\n",
      "Finally Add               9 with AIC -1550.3142959788984\n",
      "Baseline model with AIC:-1550.3142959788984\n",
      "Finally Add              50 with AIC -1551.148109777133\n",
      "Baseline model with AIC:-1551.148109777133\n",
      "Finally Add              33 with AIC -1551.5063644262375\n",
      "Baseline model with AIC:-1551.5063644262375\n",
      "Finally Add              47 with AIC -1551.772536021988\n",
      "Baseline model with AIC:-1551.772536021988\n",
      "Finally Add              41 with AIC -1551.867003008353\n",
      "Baseline model with AIC:-1551.867003008353\n",
      "Finally Add              11 with AIC -1552.114451358828\n",
      "Baseline model with AIC:-1552.114451358828\n",
      "Finally Add              25 with AIC -1552.313216621557\n",
      "Baseline model with AIC:-1552.313216621557\n",
      "Any variables does not added, stop forward stepwise regression\n",
      "[ 3.41255663e+02 -1.66735387e-01 -6.29938992e+00  6.19620294e-02\n",
      " -2.28109722e-01 -5.44770354e-01  3.38955277e+00  3.82374635e-01\n",
      "  7.51395450e-02 -7.64668144e-01  4.60892631e-03 -1.01034595e-01\n",
      " -3.92218995e-02 -1.31503906e+00  2.81222458e-01 -2.06268759e+00\n",
      "  6.70870028e-02  8.73634443e-02 -7.23746195e-03 -5.18231305e-02\n",
      " -1.70756450e-01 -8.26495473e-02]\n"
     ]
    },
    {
     "name": "stderr",
     "output_type": "stream",
     "text": [
      "/Users/ishikawayoshihito/Desktop/work/github/data_preprocess/forward_stepwise_selection.py:79: FutureWarning: Support for multi-dimensional indexing (e.g. `obj[:, None]`) is deprecated and will be removed in a future version.  Convert to a numpy array before indexing instead.\n",
      "  included_column = x.columns[[included_r]] # 採用した列名を取得\n"
     ]
    }
   ],
   "source": [
    "# AICによる変数増加法\n",
    "beta_AIC, included_column_AIC, result_min_AIC = forward_stepwise(x, y, method='AIC')\n",
    "print(beta_AIC)"
   ]
  },
  {
   "cell_type": "code",
   "execution_count": 6,
   "metadata": {},
   "outputs": [
    {
     "name": "stdout",
     "output_type": "stream",
     "text": [
      "[['xmeas_20' 'xmeas_39' 'xmeas_13' 'xmeas_31' 'xmeas_24' 'xmeas_38'\n",
      "  'xmeas_26' 'xmeas_21' 'xmeas_36' 'xmeas_19' 'xmeas_22' 'xmeas_16'\n",
      "  'xmeas_28' 'xmeas_32' 'xmeas_9' 'xmv_10' 'xmeas_33' 'xmv_7' 'xmv_1'\n",
      "  'xmeas_11' 'xmeas_25']]\n",
      "-1552.313216621557\n"
     ]
    }
   ],
   "source": [
    "print(included_column_AIC)\n",
    "print(result_min_AIC)"
   ]
  },
  {
   "cell_type": "code",
   "execution_count": 7,
   "metadata": {},
   "outputs": [
    {
     "name": "stdout",
     "output_type": "stream",
     "text": [
      "Baseline model with BIC:-1418.5521348798904\n",
      "Finally Add              20 with BIC -1454.1617532819291\n",
      "Baseline model with BIC:-1454.1617532819291\n",
      "Finally Add              39 with BIC -1462.713321352696\n",
      "Baseline model with BIC:-1462.713321352696\n",
      "Finally Add              13 with BIC -1467.6856882905113\n",
      "Baseline model with BIC:-1467.6856882905113\n",
      "Finally Add              31 with BIC -1477.7687729189017\n",
      "Baseline model with BIC:-1477.7687729189017\n",
      "Finally Add              24 with BIC -1480.832926797035\n",
      "Baseline model with BIC:-1480.832926797035\n",
      "Finally Add              38 with BIC -1484.2652687224042\n",
      "Baseline model with BIC:-1484.2652687224042\n",
      "Finally Add              26 with BIC -1485.827334143917\n",
      "Baseline model with BIC:-1485.827334143917\n",
      "Finally Add              21 with BIC -1486.953614361525\n",
      "Baseline model with BIC:-1486.953614361525\n",
      "Any variables does not added, stop forward stepwise regression\n",
      "[ 1.3951292  -0.09367274 -5.79392351  0.02158893 -0.22914263 -0.47078981\n",
      "  3.17507547  0.41627806  0.34076702]\n"
     ]
    }
   ],
   "source": [
    "# BICによる変数増加法\n",
    "beta_BIC, included_column_BIC, result_min_BIC = forward_stepwise(x, y, method='BIC')\n",
    "print(beta_BIC)"
   ]
  },
  {
   "cell_type": "code",
   "execution_count": 8,
   "metadata": {},
   "outputs": [
    {
     "name": "stdout",
     "output_type": "stream",
     "text": [
      "[['xmeas_20' 'xmeas_39' 'xmeas_13' 'xmeas_31' 'xmeas_24' 'xmeas_38'\n",
      "  'xmeas_26' 'xmeas_21']]\n",
      "-1486.953614361525\n"
     ]
    }
   ],
   "source": [
    "print(included_column_BIC)\n",
    "print(result_min_BIC)"
   ]
  },
  {
   "cell_type": "code",
   "execution_count": null,
   "metadata": {},
   "outputs": [],
   "source": []
  }
 ],
 "metadata": {
  "kernelspec": {
   "display_name": "Python 3",
   "language": "python",
   "name": "python3"
  },
  "language_info": {
   "codemirror_mode": {
    "name": "ipython",
    "version": 3
   },
   "file_extension": ".py",
   "mimetype": "text/x-python",
   "name": "python",
   "nbconvert_exporter": "python",
   "pygments_lexer": "ipython3",
   "version": "3.9.2"
  }
 },
 "nbformat": 4,
 "nbformat_minor": 2
}
