{
 "cells": [
  {
   "cell_type": "code",
   "execution_count": 1,
   "metadata": {},
   "outputs": [],
   "source": [
    "import pandas as pd"
   ]
  },
  {
   "cell_type": "markdown",
   "metadata": {},
   "source": [
    "### データを縦（列）方向に結合"
   ]
  },
  {
   "cell_type": "code",
   "execution_count": 2,
   "metadata": {},
   "outputs": [
    {
     "name": "stdout",
     "output_type": "stream",
     "text": [
      "                 x1     x2     x3\n",
      "Time                             \n",
      "2022/1/1 0:00  3.21  102.5 -0.001\n",
      "2022/1/2 0:00  2.98  104.1  0.001\n",
      "2022/1/3 0:00  3.07  105.6  0.005\n"
     ]
    }
   ],
   "source": [
    "df1 = pd.DataFrame({\n",
    "    'x1':[3.21, 2.98, 3.07],\n",
    "    'x2':[102.5, 104.1, 105.6],\n",
    "    'x3':[-0.001, 0.001, 0.005]\n",
    "})\n",
    "df1.index = ['2022/1/1 0:00', '2022/1/2 0:00', '2022/1/3 0:00']\n",
    "df1.index.name = 'Time'\n",
    "print(df1)"
   ]
  },
  {
   "cell_type": "code",
   "execution_count": 3,
   "metadata": {},
   "outputs": [
    {
     "name": "stdout",
     "output_type": "stream",
     "text": [
      "                 x1     x2     x3\n",
      "Time                             \n",
      "2022/1/4 0:00  3.11  106.6 -0.015\n",
      "2022/1/5 0:00  3.04  108.2  0.002\n"
     ]
    }
   ],
   "source": [
    "df2 = pd.DataFrame({\n",
    "    'x1':[3.11, 3.04],\n",
    "    'x2':[106.6, 108.2],\n",
    "    'x3':[-0.015, 0.002]\n",
    "})\n",
    "df2.index = ['2022/1/4 0:00', '2022/1/5 0:00']\n",
    "df2.index.name = 'Time'\n",
    "print(df2)"
   ]
  },
  {
   "cell_type": "code",
   "execution_count": 4,
   "metadata": {},
   "outputs": [
    {
     "name": "stdout",
     "output_type": "stream",
     "text": [
      "                 x1     x2     x3\n",
      "Time                             \n",
      "2022/1/1 0:00  3.21  102.5 -0.001\n",
      "2022/1/2 0:00  2.98  104.1  0.001\n",
      "2022/1/3 0:00  3.07  105.6  0.005\n",
      "2022/1/4 0:00  3.11  106.6 -0.015\n",
      "2022/1/5 0:00  3.04  108.2  0.002\n"
     ]
    }
   ],
   "source": [
    "#df1とdf2を縦方向に結合\n",
    "df3 = pd.concat([df1, df2], axis=0)\n",
    "print(df3)"
   ]
  },
  {
   "cell_type": "markdown",
   "metadata": {},
   "source": [
    "### データを横（行）方向に結合"
   ]
  },
  {
   "cell_type": "code",
   "execution_count": 5,
   "metadata": {},
   "outputs": [
    {
     "name": "stdout",
     "output_type": "stream",
     "text": [
      "                 x1     x2     x3\n",
      "Time                             \n",
      "2022/1/1 0:00  3.21  102.5 -0.001\n",
      "2022/1/2 0:00  2.98  104.1  0.001\n",
      "2022/1/3 0:00  3.07  105.6  0.005\n"
     ]
    }
   ],
   "source": [
    "df1 = pd.DataFrame({\n",
    "    'x1':[3.21, 2.98, 3.07],\n",
    "    'x2':[102.5, 104.1, 105.6],\n",
    "    'x3':[-0.001, 0.001, 0.005]\n",
    "})\n",
    "df1.index = ['2022/1/1 0:00', '2022/1/2 0:00', '2022/1/3 0:00']\n",
    "df1.index.name = 'Time'\n",
    "print(df1)"
   ]
  },
  {
   "cell_type": "code",
   "execution_count": 6,
   "metadata": {},
   "outputs": [
    {
     "name": "stdout",
     "output_type": "stream",
     "text": [
      "               x4    x5\n",
      "Time                   \n",
      "2022/1/1 0:00   1  5.05\n",
      "2022/1/2 0:00   1  5.11\n",
      "2022/1/3 0:00   1  4.99\n"
     ]
    }
   ],
   "source": [
    "df2 = pd.DataFrame({\n",
    "    'x4':[1, 1, 1],\n",
    "    'x5':[5.05, 5.11, 4.99]\n",
    "})\n",
    "df2.index = ['2022/1/1 0:00', '2022/1/2 0:00', '2022/1/3 0:00']\n",
    "df2.index.name = 'Time'\n",
    "print(df2)"
   ]
  },
  {
   "cell_type": "code",
   "execution_count": 7,
   "metadata": {},
   "outputs": [
    {
     "name": "stdout",
     "output_type": "stream",
     "text": [
      "                 x1     x2     x3  x4    x5\n",
      "Time                                       \n",
      "2022/1/1 0:00  3.21  102.5 -0.001   1  5.05\n",
      "2022/1/2 0:00  2.98  104.1  0.001   1  5.11\n",
      "2022/1/3 0:00  3.07  105.6  0.005   1  4.99\n"
     ]
    }
   ],
   "source": [
    "#df1とdf2を横方向に結合\n",
    "df3 = pd.concat([df1, df2], axis=1)\n",
    "print(df3)"
   ]
  },
  {
   "cell_type": "markdown",
   "metadata": {},
   "source": [
    "### 共通のデータ（key）を元に結合"
   ]
  },
  {
   "cell_type": "code",
   "execution_count": 8,
   "metadata": {},
   "outputs": [
    {
     "name": "stdout",
     "output_type": "stream",
     "text": [
      "                 x1     x2     x3\n",
      "Time                             \n",
      "2022/1/1 0:00  3.21  102.5 -0.001\n",
      "2022/1/2 0:00  2.98  104.1  0.001\n",
      "2022/1/3 0:00  3.07  105.6  0.005\n",
      "2022/1/4 0:00  3.11  106.6 -0.015\n",
      "2022/1/5 0:00  3.04  108.2  0.002\n"
     ]
    }
   ],
   "source": [
    "df1 = pd.DataFrame({\n",
    "    'x1':[3.21, 2.98, 3.07, 3.11, 3.04],\n",
    "    'x2':[102.5, 104.1, 105.6, 106.6, 108.2],\n",
    "    'x3':[-0.001, 0.001, 0.005, -0.015, 0.002]\n",
    "})\n",
    "df1.index = ['2022/1/1 0:00', '2022/1/2 0:00', '2022/1/3 0:00', '2022/1/4 0:00', '2022/1/5 0:00']\n",
    "df1.index.name = 'Time'\n",
    "print(df1)"
   ]
  },
  {
   "cell_type": "code",
   "execution_count": 9,
   "metadata": {},
   "outputs": [
    {
     "name": "stdout",
     "output_type": "stream",
     "text": [
      "                y1   y2\n",
      "Time                   \n",
      "2022/1/1 0:00  6.6  1.5\n",
      "2022/1/3 0:00  6.5  2.2\n",
      "2022/1/5 0:00  6.3  0.6\n"
     ]
    }
   ],
   "source": [
    "df2 = pd.DataFrame({\n",
    "    'y1':[6.6, 6.5, 6.3],\n",
    "    'y2':[1.5, 2.2, 0.6]\n",
    "})\n",
    "df2.index = ['2022/1/1 0:00', '2022/1/3 0:00', '2022/1/5 0:00']\n",
    "df2.index.name = 'Time'\n",
    "print(df2)"
   ]
  },
  {
   "cell_type": "code",
   "execution_count": 10,
   "metadata": {},
   "outputs": [
    {
     "name": "stdout",
     "output_type": "stream",
     "text": [
      "                 x1     x2     x3   y1   y2\n",
      "Time                                       \n",
      "2022/1/1 0:00  3.21  102.5 -0.001  6.6  1.5\n",
      "2022/1/2 0:00  2.98  104.1  0.001  NaN  NaN\n",
      "2022/1/3 0:00  3.07  105.6  0.005  6.5  2.2\n",
      "2022/1/4 0:00  3.11  106.6 -0.015  NaN  NaN\n",
      "2022/1/5 0:00  3.04  108.2  0.002  6.3  0.6\n"
     ]
    }
   ],
   "source": [
    "#df1とdf2を'Time'（key）を元に結合\n",
    "df3 = pd.merge(df1, df2, on='Time', how='outer')\n",
    "print(df3)"
   ]
  },
  {
   "cell_type": "markdown",
   "metadata": {},
   "source": [
    "### 内部結合と外部結合の違い"
   ]
  },
  {
   "cell_type": "code",
   "execution_count": 11,
   "metadata": {},
   "outputs": [
    {
     "name": "stdout",
     "output_type": "stream",
     "text": [
      "                 x1     x2     x3\n",
      "Time                             \n",
      "2022/1/1 0:00  3.21  102.5 -0.001\n",
      "2022/1/2 0:00  2.98  104.1  0.001\n",
      "2022/1/3 0:00  3.07  105.6  0.005\n",
      "2022/1/4 0:00  3.11  106.6 -0.015\n",
      "2022/1/5 0:00  3.04  108.2  0.002\n"
     ]
    }
   ],
   "source": [
    "#df1とdf2を用意\n",
    "df1 = pd.DataFrame({\n",
    "    'x1':[3.21, 2.98, 3.07, 3.11, 3.04],\n",
    "    'x2':[102.5, 104.1, 105.6, 106.6, 108.2],\n",
    "    'x3':[-0.001, 0.001, 0.005, -0.015, 0.002]\n",
    "})\n",
    "df1.index = ['2022/1/1 0:00', '2022/1/2 0:00', '2022/1/3 0:00', '2022/1/4 0:00', '2022/1/5 0:00']\n",
    "df1.index.name = 'Time'\n",
    "print(df1)"
   ]
  },
  {
   "cell_type": "code",
   "execution_count": 12,
   "metadata": {},
   "outputs": [
    {
     "name": "stdout",
     "output_type": "stream",
     "text": [
      "                y1   y2\n",
      "Time                   \n",
      "2022/1/1 0:00  6.6  1.5\n",
      "2022/1/3 0:00  6.5  2.2\n",
      "2022/1/5 0:00  6.3  0.6\n"
     ]
    }
   ],
   "source": [
    "df2 = pd.DataFrame({\n",
    "    'y1':[6.6, 6.5, 6.3],\n",
    "    'y2':[1.5, 2.2, 0.6]\n",
    "}) \n",
    "df2.index = ['2022/1/1 0:00', '2022/1/3 0:00', '2022/1/5 0:00']\n",
    "df2.index.name = 'Time'\n",
    "print(df2)"
   ]
  },
  {
   "cell_type": "code",
   "execution_count": 13,
   "metadata": {},
   "outputs": [
    {
     "name": "stdout",
     "output_type": "stream",
     "text": [
      "                 x1     x2     x3   y1   y2\n",
      "Time                                       \n",
      "2022/1/1 0:00  3.21  102.5 -0.001  6.6  1.5\n",
      "2022/1/3 0:00  3.07  105.6  0.005  6.5  2.2\n",
      "2022/1/5 0:00  3.04  108.2  0.002  6.3  0.6\n"
     ]
    }
   ],
   "source": [
    "# 内部結合\n",
    "df3 = pd.merge(df1, df2, on='Time',how='inner') \n",
    "print(df3)"
   ]
  },
  {
   "cell_type": "code",
   "execution_count": 14,
   "metadata": {},
   "outputs": [
    {
     "name": "stdout",
     "output_type": "stream",
     "text": [
      "                 x1     x2     x3   y1   y2\n",
      "Time                                       \n",
      "2022/1/1 0:00  3.21  102.5 -0.001  6.6  1.5\n",
      "2022/1/2 0:00  2.98  104.1  0.001  NaN  NaN\n",
      "2022/1/3 0:00  3.07  105.6  0.005  6.5  2.2\n",
      "2022/1/4 0:00  3.11  106.6 -0.015  NaN  NaN\n",
      "2022/1/5 0:00  3.04  108.2  0.002  6.3  0.6\n"
     ]
    }
   ],
   "source": [
    "# 外部結合\n",
    "df3 = pd.merge(df1, df2, on='Time',how='outer') \n",
    "print(df3)"
   ]
  },
  {
   "cell_type": "code",
   "execution_count": 15,
   "metadata": {},
   "outputs": [
    {
     "name": "stdout",
     "output_type": "stream",
     "text": [
      "                 x1     x2     x3   y1   y2\n",
      "Time                                       \n",
      "2022/1/1 0:00  3.21  102.5 -0.001  6.6  1.5\n",
      "2022/1/3 0:00  3.07  105.6  0.005  6.5  2.2\n",
      "2022/1/5 0:00  3.04  108.2  0.002  6.3  0.6\n"
     ]
    }
   ],
   "source": [
    "# 内部結合\n",
    "df3 = pd.concat([df1, df2], axis=1, join='inner') \n",
    "print(df3)"
   ]
  },
  {
   "cell_type": "code",
   "execution_count": 16,
   "metadata": {},
   "outputs": [
    {
     "name": "stdout",
     "output_type": "stream",
     "text": [
      "                 x1     x2     x3   y1   y2\n",
      "Time                                       \n",
      "2022/1/1 0:00  3.21  102.5 -0.001  6.6  1.5\n",
      "2022/1/2 0:00  2.98  104.1  0.001  NaN  NaN\n",
      "2022/1/3 0:00  3.07  105.6  0.005  6.5  2.2\n",
      "2022/1/4 0:00  3.11  106.6 -0.015  NaN  NaN\n",
      "2022/1/5 0:00  3.04  108.2  0.002  6.3  0.6\n"
     ]
    }
   ],
   "source": [
    "#　外部結合\n",
    "df3 = pd.concat([df1, df2], axis=1, join='outer') \n",
    "print(df3)"
   ]
  },
  {
   "cell_type": "code",
   "execution_count": null,
   "metadata": {},
   "outputs": [],
   "source": []
  }
 ],
 "metadata": {
  "kernelspec": {
   "display_name": "Python 3",
   "language": "python",
   "name": "python3"
  },
  "language_info": {
   "codemirror_mode": {
    "name": "ipython",
    "version": 3
   },
   "file_extension": ".py",
   "mimetype": "text/x-python",
   "name": "python",
   "nbconvert_exporter": "python",
   "pygments_lexer": "ipython3",
   "version": "3.9.2"
  }
 },
 "nbformat": 4,
 "nbformat_minor": 2
}
