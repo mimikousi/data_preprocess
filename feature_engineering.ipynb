{
 "cells": [
  {
   "cell_type": "code",
   "execution_count": 1,
   "metadata": {},
   "outputs": [],
   "source": [
    "import pandas as pd"
   ]
  },
  {
   "cell_type": "code",
   "execution_count": 2,
   "metadata": {},
   "outputs": [],
   "source": [
    "#脱ブタン塔のプロセスデータを読み込む\n",
    "df = pd.read_csv('debutanizer_data.csv')\n",
    "\n",
    "# 目的変数の測定誤差を考慮\n",
    "df['y'] = df['y'].shift(5)\n",
    "\n",
    "#yがnanとなる期間のデータを削除\n",
    "df = df.dropna()"
   ]
  },
  {
   "cell_type": "markdown",
   "metadata": {},
   "source": [
    "### 時間遅れ変数（ラグ特徴量）の作成"
   ]
  },
  {
   "cell_type": "code",
   "execution_count": 3,
   "metadata": {},
   "outputs": [],
   "source": [
    "#説明変数と目的変数にわける\n",
    "X = df.iloc[:, :-1]\n",
    "y = df['y']\n",
    "\n",
    "# 最大の遅延時間と遅延間隔（スパン）を設定\n",
    "delay_max = 30\n",
    "delay_span = 3\n",
    "X_with_delays = X.copy()    \n",
    "\n",
    "# Xの各列について\n",
    "for col in X.columns:\n",
    "    # 時間遅れ変数を追加\n",
    "    for delay in range(delay_span, delay_max + 1, delay_span):\n",
    "        col_name = f\"{col}_delay_{delay}\"\n",
    "        X_with_delays[col_name] = X[col].shift(delay)\n",
    "\n",
    "# 目標データを追加\n",
    "X_with_delays['y'] = y\n",
    "\n",
    "# 欠損値がある行を削除\n",
    "X_with_delays_fil = X_with_delays.dropna(how='any')\n",
    "\n",
    "# データを保存\n",
    "X_with_delays_fil.to_csv('time_delay_df.csv')\n",
    "X_with_delays_fil.to_pickle('time_delay_df.pkl')\n",
    "\n",
    "# 入力データと目標データに分割\n",
    "X = X_with_delays_fil.iloc[:, :-1]\n",
    "y = X_with_delays_fil['y']"
   ]
  },
  {
   "cell_type": "markdown",
   "metadata": {},
   "source": [
    "### 二乗項、交差項の作成"
   ]
  },
  {
   "cell_type": "code",
   "execution_count": 4,
   "metadata": {},
   "outputs": [
    {
     "name": "stdout",
     "output_type": "stream",
     "text": [
      "1 / 7\n",
      "2 / 7\n",
      "3 / 7\n",
      "4 / 7\n",
      "5 / 7\n",
      "6 / 7\n",
      "7 / 7\n"
     ]
    }
   ],
   "source": [
    "#説明変数と目的変数にわける\n",
    "X = df.iloc[:, :-1]\n",
    "y = df['y']\n",
    "\n",
    "# 元の説明変数のデータセット\n",
    "original_X = X.copy() \n",
    "\n",
    "# 二乗項を追加\n",
    "X_squared = X**2\n",
    "X_squared.columns = [f\"{col}^2\" for col in X.columns]\n",
    "X = pd.concat([X, X_squared], axis=1)\n",
    "\n",
    "# 交差項を追加\n",
    "for i, col1 in enumerate(original_X.columns):\n",
    "    print(i + 1, '/', original_X.shape[1])\n",
    "    for col2 in original_X.columns[i+1:]:\n",
    "        X[f\"{col1}*{col2}\"] = X[col1] * X[col2]\n",
    "\n",
    "# データを保存\n",
    "X.to_csv('squared_interaction_terms.csv')\n",
    "X.to_pickle('squared_interaction_terms.pkl')"
   ]
  },
  {
   "cell_type": "code",
   "execution_count": null,
   "metadata": {},
   "outputs": [],
   "source": []
  }
 ],
 "metadata": {
  "kernelspec": {
   "display_name": "Python 3",
   "language": "python",
   "name": "python3"
  },
  "language_info": {
   "codemirror_mode": {
    "name": "ipython",
    "version": 3
   },
   "file_extension": ".py",
   "mimetype": "text/x-python",
   "name": "python",
   "nbconvert_exporter": "python",
   "pygments_lexer": "ipython3",
   "version": "3.9.2"
  }
 },
 "nbformat": 4,
 "nbformat_minor": 2
}
